{
  "cells": [
    {
      "cell_type": "code",
      "execution_count": 1,
      "metadata": {
        "id": "HCN9A8eJhlmW"
      },
      "outputs": [],
      "source": [
        "import numpy as np\n",
        "from scipy.spatial.distance import cdist\n",
        "from scipy.spatial.distance import cosine\n",
        "import pandas as pd\n",
        "from copy import deepcopy"
      ]
    },
    {
      "cell_type": "code",
      "execution_count": 2,
      "metadata": {
        "id": "meGIvxRFhnVB"
      },
      "outputs": [],
      "source": [
        "def euclidean_distance(X, Y):\n",
        "    return cdist(X, Y, 'euclidean')"
      ]
    },
    {
      "cell_type": "code",
      "execution_count": 3,
      "metadata": {
        "id": "3LIRmBKEhnYl"
      },
      "outputs": [],
      "source": [
        "def cosine_similarity_distance(X, Y):\n",
        "    return 1 - cdist(X, Y, 'cosine')"
      ]
    },
    {
      "cell_type": "code",
      "execution_count": 4,
      "metadata": {
        "id": "GvfMeoFQhnbu"
      },
      "outputs": [],
      "source": [
        "def jaccard_similarity(X, Y):\n",
        "    min_int = np.minimum(X[:, np.newaxis], Y)\n",
        "    max_union = np.maximum(X[:, np.newaxis], Y)\n",
        "    return 1 - np.sum(min_int, axis=2) / np.sum(max_union, axis=2)"
      ]
    },
    {
      "cell_type": "code",
      "execution_count": 5,
      "metadata": {
        "id": "iAZD_E9Jhne2"
      },
      "outputs": [],
      "source": [
        "def kmeans(X, k, distance_function, max_iters=100):\n",
        "    n_samples, _ = X.shape\n",
        "\n",
        "    random_indices = np.random.choice(n_samples, size=k, replace=False)\n",
        "    centroids = X[random_indices]\n",
        "\n",
        "    centroids_old = np.zeros(centroids.shape)\n",
        "\n",
        "    labels = np.zeros(n_samples)\n",
        "    error = np.linalg.norm(centroids - centroids_old)\n",
        "\n",
        "    iteration = 0\n",
        "    while error != 0 and iteration < max_iters:\n",
        "        distances = distance_function(X, centroids)\n",
        "        labels = np.argmin(distances, axis=1)\n",
        "        centroids_old = deepcopy(centroids)\n",
        "        for i in range(k):\n",
        "            centroids[i] = np.mean(X[labels == i], axis=0)\n",
        "\n",
        "        error = np.linalg.norm(centroids - centroids_old)\n",
        "        iteration += 1\n",
        "\n",
        "    return centroids, labels"
      ]
    },
    {
      "cell_type": "code",
      "execution_count": 6,
      "metadata": {
        "id": "FC7rduA06Q3s"
      },
      "outputs": [],
      "source": [
        "def calculate_sse(X, labels, centroids, distance_function):\n",
        "    sse = 0\n",
        "    for i in range(len(centroids)):\n",
        "        cluster_points = X[labels == i]\n",
        "        distances = distance_function(cluster_points, [centroids[i]])\n",
        "        sse += np.sum(distances**2)\n",
        "    return sse"
      ]
    },
    {
      "cell_type": "code",
      "execution_count": 8,
      "metadata": {
        "id": "iumZVzYSiM7P"
      },
      "outputs": [],
      "source": [
        "data_path = 'kmeans_data/data.csv'\n",
        "label_path = 'kmeans_data/label.csv'\n",
        "\n",
        "data_df = pd.read_csv(data_path)\n",
        "label_df = pd.read_csv(label_path)\n",
        "\n",
        "data = data_df.to_numpy()\n",
        "labels = label_df.to_numpy().flatten() "
      ]
    },
    {
      "cell_type": "code",
      "execution_count": 9,
      "metadata": {
        "colab": {
          "base_uri": "https://localhost:8080/"
        },
        "id": "S87-MVZMhnhe",
        "outputId": "49932b57-0644-4b79-a587-bc32be3e293a"
      },
      "outputs": [
        {
          "name": "stderr",
          "output_type": "stream",
          "text": [
            "/Users/shreyassrinivasan/Desktop/course/dm/hw3/lib/python3.9/site-packages/numpy/core/fromnumeric.py:3504: RuntimeWarning: Mean of empty slice.\n",
            "  return _methods._mean(a, axis=axis, dtype=dtype,\n",
            "/Users/shreyassrinivasan/Desktop/course/dm/hw3/lib/python3.9/site-packages/numpy/core/_methods.py:121: RuntimeWarning: invalid value encountered in divide\n",
            "  ret = um.true_divide(\n",
            "/var/folders/bc/hpyl601n6w30mtc7cx5q8l7w0000gn/T/ipykernel_25278/2312079844.py:42: RuntimeWarning: invalid value encountered in cast\n",
            "  centroids[i] = np.mean(X[labels == i], axis=0)\n"
          ]
        },
        {
          "name": "stdout",
          "output_type": "stream",
          "text": [
            "[2 6 5 9 6 7 7 9 0 5]\n",
            "[0 0 0 0 0 0 0 0 0 0]\n",
            "[9 1 8 7 3 0 0 5 4 8]\n"
          ]
        }
      ],
      "source": [
        "X = data_df.to_numpy()\n",
        "k = 10\n",
        "\n",
        "\n",
        "centroids_euclidean, labels_euclidean = kmeans(data, k, euclidean_distance) # Euclidian Distance\n",
        "centroids_cosine, labels_cosine = kmeans(data, k, cosine_similarity_distance) # Cosine Similarity\n",
        "centroids_jaccard, labels_jaccard = kmeans(data, k, jaccard_similarity) # Jaccard Similarity\n",
        "\n",
        "print(labels_euclidean[:10])  \n",
        "print(labels_cosine[:10])    \n",
        "print(labels_jaccard[:10])   "
      ]
    },
    {
      "cell_type": "markdown",
      "metadata": {
        "id": "mdzAgKAyFZtO"
      },
      "source": [
        "Q1\n"
      ]
    },
    {
      "cell_type": "code",
      "execution_count": 10,
      "metadata": {
        "colab": {
          "base_uri": "https://localhost:8080/"
        },
        "id": "DFs89OylhnkD",
        "outputId": "38efad6c-5b57-424a-c1f8-6feee308941c"
      },
      "outputs": [
        {
          "name": "stdout",
          "output_type": "stream",
          "text": [
            "SSE Euclidean is: 25486250479.0\n",
            "SSE Cosine is: 4156.594182164835\n",
            "SSE Jaccard is: 3687.566716929624\n"
          ]
        }
      ],
      "source": [
        "\n",
        "sse_euclidean = calculate_sse(data, labels_euclidean, centroids_euclidean, euclidean_distance)\n",
        "sse_cosine = calculate_sse(data, labels_cosine, centroids_cosine, cosine_similarity_distance)\n",
        "sse_jaccard = calculate_sse(data, labels_jaccard, centroids_jaccard, generalized_jaccard_similarity)\n",
        "\n",
        "print(\"SSE Euclidean is:\", sse_euclidean)\n",
        "print(\"SSE Cosine is:\", sse_cosine)\n",
        "print(\"SSE Jaccard is:\", sse_jaccard)"
      ]
    },
    {
      "cell_type": "markdown",
      "metadata": {
        "id": "T3_q3vsv8iix"
      },
      "source": [
        "Q2"
      ]
    },
    {
      "cell_type": "code",
      "execution_count": 11,
      "metadata": {
        "id": "8delikWZ8hrd"
      },
      "outputs": [],
      "source": [
        "def label_clusters(labels, true_labels, k):\n",
        "    cluster_labels = {}\n",
        "    for i in range(k):\n",
        "        labels_in_cluster = true_labels[labels == i]\n",
        "        if len(labels_in_cluster) == 0:\n",
        "            continue\n",
        "        most_common = np.bincount(labels_in_cluster).argmax()\n",
        "        cluster_labels[i] = most_common\n",
        "    return cluster_labels\n"
      ]
    },
    {
      "cell_type": "code",
      "execution_count": 12,
      "metadata": {
        "id": "1__UY01r8hz7"
      },
      "outputs": [],
      "source": [
        "def compute_accuracy(labels, true_labels, cluster_labels):\n",
        "    correct_predictions = 0\n",
        "    for label, true_label in zip(labels, true_labels):\n",
        "        if cluster_labels[label] == true_label:\n",
        "            correct_predictions += 1\n",
        "    return correct_predictions / len(true_labels)\n"
      ]
    },
    {
      "cell_type": "code",
      "execution_count": 13,
      "metadata": {
        "colab": {
          "base_uri": "https://localhost:8080/"
        },
        "id": "TPMzbti98oos",
        "outputId": "a30de2a1-1fc8-40d5-b044-3f12be5eb3f3"
      },
      "outputs": [
        {
          "name": "stdout",
          "output_type": "stream",
          "text": [
            "Accuracy Euclidean: 0.6034603460346034\n",
            "Accuracy Cosine: 0.11351135113511351\n",
            "Accuracy Jaccard: 0.5446544654465446\n"
          ]
        }
      ],
      "source": [
        "true_labels_numeric = pd.factorize(labels)[0]\n",
        "cluster_labels_euclidean = label_clusters(labels_euclidean, true_labels_numeric, k)\n",
        "cluster_labels_cosine = label_clusters(labels_cosine, true_labels_numeric, k)\n",
        "cluster_labels_jaccard = label_clusters(labels_jaccard, true_labels_numeric, k)\n",
        "\n",
        "accuracy_euclidean = compute_accuracy(labels_euclidean, true_labels_numeric, cluster_labels_euclidean)\n",
        "accuracy_cosine = compute_accuracy(labels_cosine, true_labels_numeric, cluster_labels_cosine)\n",
        "accuracy_jaccard = compute_accuracy(labels_jaccard, true_labels_numeric, cluster_labels_jaccard)\n",
        "\n",
        "print(\"Accuracy Euclidean:\", accuracy_euclidean)\n",
        "print(\"Accuracy Cosine:\", accuracy_cosine)\n",
        "print(\"Accuracy Jaccard:\", accuracy_jaccard)"
      ]
    },
    {
      "cell_type": "markdown",
      "metadata": {
        "id": "FkJbfWUK-cok"
      },
      "source": [
        "Q3\n"
      ]
    },
    {
      "cell_type": "code",
      "execution_count": 14,
      "metadata": {
        "id": "hb4Gy74eD22_"
      },
      "outputs": [],
      "source": [
        "import time\n",
        "\n",
        "def kmeans_time(X, k, distance_function, max_iters=500):\n",
        "    n_samples, _ = X.shape\n",
        "    random_indices = np.random.choice(n_samples, size=k, replace=False)\n",
        "    centroids = X[random_indices]\n",
        "    centroids_old = np.zeros(centroids.shape)\n",
        "    labels = np.zeros(n_samples)\n",
        "    error = np.linalg.norm(centroids - centroids_old)\n",
        "    iteration = 0\n",
        "    sse_old = float('inf')\n",
        "\n",
        "    start_time = time.time()\n",
        "\n",
        "    while iteration < max_iters:\n",
        "        distances = distance_function(X, centroids)\n",
        "        labels = np.argmin(distances, axis=1)\n",
        "        centroids_old = deepcopy(centroids)\n",
        "        for i in range(k):\n",
        "            centroids[i] = np.mean(X[labels == i], axis=0)\n",
        "        error = np.linalg.norm(centroids - centroids_old)\n",
        "        sse_new = calculate_sse(X, labels, centroids, distance_function)\n",
        "\n",
        "        if error == 0 or sse_new > sse_old:\n",
        "            break\n",
        "\n",
        "        sse_old = sse_new\n",
        "        iteration += 1\n",
        "\n",
        "    end_time = time.time()\n",
        "    return centroids, labels, iteration, end_time - start_time"
      ]
    },
    {
      "cell_type": "code",
      "execution_count": 15,
      "metadata": {
        "colab": {
          "base_uri": "https://localhost:8080/"
        },
        "id": "IisaAv4s8orN",
        "outputId": "d2823ee3-db13-4c70-bf41-f121469c574c"
      },
      "outputs": [
        {
          "name": "stderr",
          "output_type": "stream",
          "text": [
            "/var/folders/bc/hpyl601n6w30mtc7cx5q8l7w0000gn/T/ipykernel_25278/1556918395.py:20: RuntimeWarning: invalid value encountered in cast\n",
            "  centroids[i] = np.mean(X[labels == i], axis=0)\n"
          ]
        },
        {
          "name": "stdout",
          "output_type": "stream",
          "text": [
            "Euclidean: Iterations are - 105, Time taken to converge - 30.738922834396362 seconds\n",
            "Cosine: Iterations are - 1, Time taken to converge - 0.9287569522857666 seconds\n",
            "Jaccard: Iterations are - 12, Time taken to converge - 22.971154928207397 seconds\n"
          ]
        }
      ],
      "source": [
        "centroids_euclidean, labels_euclidean, iterations_euclidean, time_euclidean = kmeans_time(data, k, euclidean_distance)\n",
        "centroids_cosine, labels_cosine, iterations_cosine, time_cosine = kmeans_time(data, k, cosine_similarity_distance)\n",
        "centroids_jaccard, labels_jaccard, iterations_jaccard, time_jaccard = kmeans_time(data, k, jaccard_similarity)\n",
        "\n",
        "print(f\"Euclidean: Iterations are - {iterations_euclidean}, Time taken to converge - {time_euclidean} seconds\")\n",
        "print(f\"Cosine: Iterations are - {iterations_cosine}, Time taken to converge - {time_cosine} seconds\")\n",
        "print(f\"Jaccard: Iterations are - {iterations_jaccard}, Time taken to converge - {time_jaccard} seconds\")"
      ]
    },
    {
      "cell_type": "markdown",
      "metadata": {
        "id": "P3Yh4ZsH_9aj"
      },
      "source": [
        "Q4\n"
      ]
    },
    {
      "cell_type": "code",
      "execution_count": 16,
      "metadata": {
        "id": "XCwLXnGz__N3"
      },
      "outputs": [],
      "source": [
        "def kmeans_cond(X, k, distance_function, max_iters=100):\n",
        "    n_samples, _ = X.shape\n",
        "    random_indices = np.random.choice(n_samples, size=k, replace=False)\n",
        "    centroids = X[random_indices]\n",
        "    centroids_old = np.zeros(centroids.shape)\n",
        "    labels = np.zeros(n_samples)\n",
        "    error = np.linalg.norm(centroids - centroids_old)\n",
        "    iteration = 0\n",
        "    sse_old = float('inf')\n",
        "    sse_at_termination = None\n",
        "\n",
        "    while iteration < max_iters:\n",
        "        distances = distance_function(X, centroids)\n",
        "        labels = np.argmin(distances, axis=1)\n",
        "        centroids_old = deepcopy(centroids)\n",
        "        for i in range(k):\n",
        "            centroids[i] = np.mean(X[labels == i], axis=0)\n",
        "        error = np.linalg.norm(centroids - centroids_old)\n",
        "        sse_new = calculate_sse(X, labels, centroids, distance_function)\n",
        "\n",
        "        if error == 0 or sse_new > sse_old:\n",
        "            sse_at_termination = sse_new\n",
        "            break\n",
        "\n",
        "        sse_old = sse_new\n",
        "        iteration += 1\n",
        "\n",
        "        if iteration == max_iters - 1:\n",
        "            sse_at_termination = sse_new\n",
        "\n",
        "    return centroids, labels, sse_at_termination\n"
      ]
    },
    {
      "cell_type": "code",
      "execution_count": 17,
      "metadata": {
        "colab": {
          "base_uri": "https://localhost:8080/"
        },
        "id": "YB70xcun__T0",
        "outputId": "61c8b8ff-3feb-4146-e21f-d05cf2e1d8c9"
      },
      "outputs": [
        {
          "name": "stdout",
          "output_type": "stream",
          "text": [
            "SSE Euclidean is: 25433664655.0\n",
            "SSE Cosine is: 5058.586215879547\n",
            "SSE Jaccard is: 3665.779439501196\n"
          ]
        }
      ],
      "source": [
        "centroids_euclidean, labels_euclidean, sse_euclidean = kmeans_cond(data, k, euclidean_distance)\n",
        "centroids_cosine, labels_cosine, sse_cosine = kmeans_cond(data, k, cosine_similarity_distance)\n",
        "centroids_jaccard, labels_jaccard, sse_jaccard = kmeans_cond(data, k, generalized_jaccard_similarity)\n",
        "\n",
        "print(f\"SSE Euclidean is: {sse_euclidean}\")\n",
        "print(f\"SSE Cosine is: {sse_cosine}\")\n",
        "print(f\"SSE Jaccard is: {sse_jaccard}\")\n"
      ]
    }
  ],
  "metadata": {
    "colab": {
      "provenance": []
    },
    "kernelspec": {
      "display_name": "Python 3",
      "name": "python3"
    },
    "language_info": {
      "codemirror_mode": {
        "name": "ipython",
        "version": 3
      },
      "file_extension": ".py",
      "mimetype": "text/x-python",
      "name": "python",
      "nbconvert_exporter": "python",
      "pygments_lexer": "ipython3",
      "version": "3.9.0"
    }
  },
  "nbformat": 4,
  "nbformat_minor": 0
}
